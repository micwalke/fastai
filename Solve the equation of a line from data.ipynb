{
 "cells": [
  {
   "cell_type": "markdown",
   "metadata": {},
   "source": [
    "## Solve the equation of a line from data"
   ]
  },
  {
   "cell_type": "code",
   "execution_count": 1,
   "metadata": {
    "collapsed": true
   },
   "outputs": [],
   "source": [
    "%matplotlib inline\n",
    "import numpy as np\n",
    "from numpy.random import random\n",
    "from matplotlib import pyplot as plt, rcParams, animation, rc\n",
    "from __future__ import print_function, division\n",
    "from ipywidgets import interact, interactive, fixed\n",
    "from ipywidgets.widgets import *\n",
    "rc('animation', html='html5')\n",
    "rcParams['figure.figsize'] = 3,3\n",
    "%precision 4\n",
    "np.set_printoptions(precision=4, linewidth=100)"
   ]
  },
  {
   "cell_type": "code",
   "execution_count": 2,
   "metadata": {
    "collapsed": true
   },
   "outputs": [],
   "source": [
    "def lin(a,b,x): return a*x + b"
   ]
  },
  {
   "cell_type": "code",
   "execution_count": 3,
   "metadata": {
    "collapsed": true
   },
   "outputs": [],
   "source": [
    "a=3\n",
    "b=8"
   ]
  },
  {
   "cell_type": "code",
   "execution_count": 4,
   "metadata": {},
   "outputs": [],
   "source": [
    "n = 30\n",
    "x = random(n)"
   ]
  },
  {
   "cell_type": "code",
   "execution_count": 5,
   "metadata": {},
   "outputs": [
    {
     "data": {
      "text/plain": [
       "array([ 0.422 ,  0.3686,  0.188 ,  0.2123,  0.4054])"
      ]
     },
     "execution_count": 5,
     "metadata": {},
     "output_type": "execute_result"
    }
   ],
   "source": [
    "x[:5]"
   ]
  },
  {
   "cell_type": "code",
   "execution_count": 6,
   "metadata": {},
   "outputs": [
    {
     "data": {
      "text/plain": [
       "array([ 9.2659,  9.1059,  8.5641,  8.6369,  9.2161])"
      ]
     },
     "execution_count": 6,
     "metadata": {},
     "output_type": "execute_result"
    }
   ],
   "source": [
    "y = lin(a,b,x)\n",
    "y[:5]"
   ]
  },
  {
   "cell_type": "code",
   "execution_count": 7,
   "metadata": {},
   "outputs": [
    {
     "data": {
      "text/plain": [
       "<matplotlib.collections.PathCollection at 0x11278ff50>"
      ]
     },
     "execution_count": 7,
     "metadata": {},
     "output_type": "execute_result"
    },
    {
     "data": {
      "image/png": "[encoded data removed]",
      "text/plain": [
       "<matplotlib.figure.Figure at 0x10b4e0250>"
      ]
     },
     "metadata": {},
     "output_type": "display_data"
    }
   ],
   "source": [
    "plt.scatter(x,y)"
   ]
  },
  {
   "cell_type": "markdown",
   "metadata": {},
   "source": [
    "Forget that we know what a and b are, and calculate them from the data."
   ]
  },
  {
   "cell_type": "code",
   "execution_count": 8,
   "metadata": {},
   "outputs": [],
   "source": [
    "# define sum of square errors as the loss function\n",
    "\n",
    "def sse(y, y_pred): return ((y - y_pred)**2).sum()\n",
    "\n",
    "def loss(y, a, b, x): return sse(y, lin(a,b,x))\n",
    "\n",
    "def avg_loss(y, a, b, x): return np.sqrt(loss(y,a,b,x)/n)"
   ]
  },
  {
   "cell_type": "code",
   "execution_count": 9,
   "metadata": {},
   "outputs": [
    {
     "data": {
      "text/plain": [
       "9.9578"
      ]
     },
     "execution_count": 9,
     "metadata": {},
     "output_type": "execute_result"
    }
   ],
   "source": [
    "a_guess = 1\n",
    "b_guess = -1\n",
    "avg_loss(y, a_guess, b_guess, x)"
   ]
  },
  {
   "cell_type": "markdown",
   "metadata": {},
   "source": [
    "### Gradient Descent\n",
    "To take steps from a random guess toward the right answer, we need to figure out the direction of the right answer.  We do this by taking calculating the slope of the loss function and taking a small step down the slope.\n",
    "\n",
    "Our sum of square errors loss function is:\n",
    "\n",
    "    y_pred = ax + b\n",
    "    loss = (y - y_pred)**2\n",
    "         = (y - (ax + b))**2\n",
    "         = (y - ax - b)**2\n",
    "        \n",
    "    dydb = -2(y - ax - b)\n",
    "         = 2(ax + b - y)\n",
    "         = 2(y_pred - y)\n",
    "         \n",
    "    dyda = -2x(y - ax - b)\n",
    "         = x * dydb"
   ]
  },
  {
   "cell_type": "code",
   "execution_count": 10,
   "metadata": {
    "collapsed": true
   },
   "outputs": [],
   "source": [
    "lr = 0.1   # the size of our step"
   ]
  },
  {
   "cell_type": "code",
   "execution_count": 11,
   "metadata": {
    "collapsed": true
   },
   "outputs": [],
   "source": [
    "def upd():\n",
    "    global a_guess, b_guess\n",
    "    y_pred = lin(a_guess, b_guess, x)\n",
    "    dydb = 2 * (y_pred - y)\n",
    "    dyda = x * dydb\n",
    "    \n",
    "    a_guess -= lr * dyda.mean()\n",
    "    b_guess -= lr * dydb.mean()"
   ]
  },
  {
   "cell_type": "code",
   "execution_count": 12,
   "metadata": {},
   "outputs": [
    {
     "data": {
      "text/plain": [
       "<matplotlib.collections.PathCollection at 0x11503b710>"
      ]
     },
     "execution_count": 12,
     "metadata": {},
     "output_type": "execute_result"
    },
    {
     "data": {
      "image/png": "[encoded data removed]",
      "text/plain": [
       "<matplotlib.figure.Figure at 0x10b4e01d0>"
      ]
     },
     "metadata": {},
     "output_type": "display_data"
    }
   ],
   "source": [
    "fig = plt.figure(dpi=100, figsize=(5,4))\n",
    "plt.scatter(x,y)"
   ]
  },
  {
   "cell_type": "code",
   "execution_count": 13,
   "metadata": {
    "collapsed": true
   },
   "outputs": [],
   "source": [
    "line, = plt.plot(x,lin(a_guess, b_guess, x))\n",
    "plt.close()"
   ]
  },
  {
   "cell_type": "code",
   "execution_count": 14,
   "metadata": {
    "collapsed": true
   },
   "outputs": [],
   "source": [
    "def animate(i):\n",
    "    line.set_ydata(lin(a_guess, b_guess, x))\n",
    "    for i in range(10): upd()\n",
    "    return line,"
   ]
  },
  {
   "cell_type": "code",
   "execution_count": 15,
   "metadata": {
    "collapsed": true
   },
   "outputs": [],
   "source": [
    "ani = animation.FuncAnimation(fig, animate, np.arange(0,40), interval=100)"
   ]
  },
  {
   "cell_type": "code",
   "execution_count": 16,
   "metadata": {},
   "outputs": [
    {
     "data": {
      "text/html": [
       "<video width=\"500\" height=\"400\" controls autoplay loop>\n",
       "  <source type=\"video/mp4\" src=\"data:video/mp4;base64,AAAAHGZ0eXBNNFYgAAACAGlzb21pc28yYXZjMQAAAAhmcmVlAAAce21kYXQAAAKhBgX//53cRem9\n",
       "5tlIt5Ys2CDZI+7veDI2NCAtIGNvcmUgMTQ4IC0gSC4yNjQvTVBFRy00IEFWQyBjb2RlYyAtIENv\n",
       "cHlsZWZ0IDIwMDMtMjAxNSAtIGh0dHA6Ly93d3cudmlkZW9sYW4ub3JnL3gyNjQuaHRtbCAtIG9w\n",
       "dGlvbnM6IGNhYmFjPTEgcmVmPTMgZGVibG9jaz0xOjA6MCBhbmFseXNlPTB4MzoweDExMyBtZT1o\n",
       "ZXggc3VibWU9NyBwc3k9MSBwc3lfcmQ9MS4wMDowLjAwIG1peGVkX3JlZj0xIG1lX3JhbmdlPTE2\n",
       "IGNocm9tYV9tZT0xIHRyZWxsaXM9MSA4eDhkY3Q9MSBjcW09MCBkZWFkem9uZT0yMSwxMSBmYXN0\n",
       "X3Bza2lwPTEgY2hyb21hX3FwX29mZnNldD0tMiB0aHJlYWRzPTEyIGxvb2thaGVhZF90aHJlYWRz\n",
       "PTIgc2xpY2VkX3RocmVhZHM9MCBucj0wIGRlY2ltYXRlPTEgaW50ZXJsYWNlZD0wIGJsdXJheV9j\n",
       "b21wYXQ9MCBjb25zdHJhaW5lZF9pbnRyYT0wIGJmcmFtZXM9MyBiX3B5cmFtaWQ9MiBiX2FkYXB0\n",
       "PTEgYl9iaWFzPTAgZGlyZWN0PTEgd2VpZ2h0Yj0xIG9wZW5fZ29wPTAgd2VpZ2h0cD0yIGtleWlu\n",
       "dD0yNTAga2V5aW50X21pbj0xMCBzY2VuZWN1dD00MCBpbnRyYV9yZWZyZXNoPTAgcmNfbG9va2Fo\n",
       "ZWFkPTQwIHJjPWNyZiBtYnRyZWU9MSBjcmY9MjMuMCBxY29tcD0wLjYwIHFwbWluPTAgcXBtYXg9\n",
       "NjkgcXBzdGVwPTQgaXBfcmF0aW89MS40MCBhcT0xOjEuMDAAgAAAFiBliIQAEf/+94gfMstp+TrX\n",
       "chHnrS6tH1DuRnFepL3+IAAAAwAABHUc0eeasjtsuwAABa+H/wWj/JBwYI2SHqArWYJtT2AcoVb6\n",
       "Z5cXrjKoRmcfZ0R09GRrMEQ5DYS9sESC6w58mkXqcHTxDG/lWWVovBG5jycifSNe/ZmfsR7rHvgw\n",
       "ADAfn7tvDxw8d61PijaDVKFjN/b/G9Y7Kc5tTXTu4P7uGO3xn3+xqXM3ybfCfm9/bcYl99OE09MF\n",
       "ZE9JbHLEGWDnmFieYiJFld4R85l67If4ktCfnPErGnA/e1ZtYPQAJut4UDPCYJvC75DGUq+OREbN\n",
       "IlBHwyeTwGFFdgfpQmdVuc/5ay1LUz04g01GMmxRzo8Z2xtYAhGf8G7Qk14UpAiA8h5dH288jsVX\n",
       "p68Iq3fWbm0/amSqHQyLktrgjHGVle2aZlyZ9EkTPQHoKurfa3K/owxzAAAjVUsVo/L83zLKxDXV\n",
       "LOd2mI+l4sXqohvvU1bZKQ8a5fK22gY27kQK+C+yURsH2sjrU/vMaOQKmtnro7Xa4cTau4Ibl6Y8\n",
       "kyj1GwCnaAjKBFpO3D0tikbFCtAeGBFjIS6Iz4zZGmehIbJZEkeu+Njh/QwKj4zhhLZYIeV15Le+\n",
       "o/TEE7yJhzhtNJ99rX1tLfQjyYdgQco6R3vYoba3weBl+4N091C1OxWXA6LtZHIjH6bLSs4APmsN\n",
       "IsZ/2n5lI+bxnz0ZEGakoKRNx8996p/FzFa6lkFoFDGqPm4ovAq8Dx3Cbvx3/UEecgQGwAhGSbwy\n",
       "jl85pZ+wXV6A+Zqr/FO7AARt2aZlKyRtb6DtFiHsD3c1TH99kaHqSZT4tga994/Ukg3QQVlSrB2f\n",
       "5XxUY+WhCTzmq6gk9A/QpgW4tg8MdYsyByRv3P2tUxd/BXlq1F/WiPzfft/+ZDYP7z3tV63RQHFr\n",
       "7ZKY+QYfXXDTHzGhPxoHYsyD+T/YuYhff0K6CNZFMAn0FCd059aRRrmyN/7UUA4K1ul8pJedaH0u\n",
       "RMlFB4hTEOxSl6h4dz1O+JjuDFSiOixzXTPCLRbDhou9Mk1h5hhKAExLEldReLlrGCFjA1QGyNjI\n",
       "tVUUsqGv+ckDHfyiKDFkbhYP3itsanLh8bVWW9IyXM+WopJ7psmkN0tTyedNIBtDANXoi4zhZi9U\n",
       "Zjm4sZ+BT8t/bIKhor742zAyFW/VgajOZ2bkk7htlBcg4Eo9rwoT8+dZ+mIr9dXheyrZCgm7+2ng\n",
       "ehUCQdjiErANajQh+ezOH6rY0VhGWvdzkIOJ2LOEEUAYbJ/A+96/9hUDXoF8ViNNIIenyAqLPN+A\n",
       "AahFS+l67M+ucGe6D1//Qw68swiJl+3g5feN78h/JJuDf3mGWVjy3ec6QQLeQ0n37gF6v9LABgsM\n",
       "aRJGG759/jGvgOPvCr7MtW5oKY0VdTDAJ8k1CQ5TISSrMcnKtsT9+x7F4tA5hid2NIZLmdIiyIe7\n",
       "RRjioxRhl2R6af4iXIGKrSxTA22LIWjJFzMFLlYacMzxf5dotF5C8gK9+t4LFhhgBUhdYQn20892\n",
       "o1MDLhRC8hsUsx5TuQZLbsQRTmseLJ0h1AnH4gZGMHciTiAA3D66eYazEAG3il8jsNbYNmZkBPeI\n",
       "pVbfoxbm5aToj7DXvy1oxCr3JhepHLpv/vOXGZgB0FxcjWjQVGZb0t4CtcxesJyP/Uv/3Cct7wea\n",
       "891hGx29eitfftc//esOl+j68QK6LHte9im7g7J0GidLuBHKy40in3qED8R3mEz2nfntOqm/Yxhh\n",
       "gPgPhXPHCe18BqVLQ6lb5/Y01ZG845Ay6PDVE2LPWxgvbmHhVHBEXhUHx7cbJm3Vk2PANoWLCKP4\n",
       "RHh8JgKR5qBcFBLRI9WFdgKXxroWlDV+YEPzOdY0XKXfuKI0zSR4e2ftZtjvHSLEeY47fQFwukmf\n",
       "30Tcgp5At9Pg8G3bKXCeIfU8ZK+olzWaIixib2Sa5hV1gNIg471qoaU3qomkXfP2fsC8YCkpCM9n\n",
       "fvJ1rqJIHKDL2H2AY0s3B2IzOrOePH2HBewAD9sb0bU31ETCjej7YiRto6BmO42ljqnsCeSvX6kM\n",
       "BhW3axo3FYUpxgWv7JxsvdfYaVZBmZzEEXMVKCpzh9hgjiH4qBivfi9J124dDDOF9x24vOEGcsqG\n",
       "Wvg1zz9O56GhmOHodJJf+YJ5NHMPtgIKQXnfTeDtq3AP6Zoh6v3/EmP4hDS5chIojMSoVz7u/53a\n",
       "pYecqH5/CiJnIkCWN4Yw4pxQwI48zmj+Badr6Xl0l7EhdtjNZvLWDFlkDr1yPezxweamdjBTu8Ad\n",
       "THSo15WhwmUj2PPC/hCTSTRiAIqXA5rf+r81Bj+UVxXtrS+zpZ/JjfiDaMN1zSZKUwx5hAdRx2HG\n",
       "SoTEP2lMee5AkZyrWp4AJQ7dnKRZ+AA8NzCZO2OEvjB4w/66C4UGDdKaUm+AL5/4wV0gKAF1ZQMD\n",
       "I81Pfsqm190pmJZvM/tuT45dzQalf2yj3nbOYGCqiEKubyvKD5jCIV3kCUMTD0nhQaCKZOHFbbKU\n",
       "GGzUdFdmGJ554EvnqZ0ykru1hvdR3+ivXlBY6QC2QgMnW/lZY/wPyNGKXwJH6rdEu2LolXJW4rJK\n",
       "7n8xOfcIlZ7hy7QhrrqBhiwH0v/8QSWCYRllqxHSNyVabHlqrgrjnjGceci5SQwKLpYUnADjZycK\n",
       "ciDb/4dPZc/MeUYVqb/BMhnT9iGyPsqbyV6NLRQveLFshHfZfNev66eZxURHgzmknqnCJJp2qWef\n",
       "6IrHqcuN65xuw402E99fSKQm86kZ1ihaPUBwP2WoQfNngdaWgF5luZ/dMFTTJdDs5waZgb1Ti9Ah\n",
       "Jn0EP1jVarAHz4GSxnjL3S+jf2doAMsneW3oPWgXLSYQdS7A8UsNWmcPnLTBv5yL+Cea2xTEqFyM\n",
       "YGNyLBImDVZTC6F367irtCBEz+4KftYUyCtqk0Lv91pBFnI9dFVRl2k9PwDQ2is584o6oj09V6iz\n",
       "GRbppOuWQNO4glWJsHYPyL9kDOQ6SxO6iAc+dSColSQ1sBOn2De+DSR84WpbT3V3TuTP1U1g3Ker\n",
       "N3iMmISQqWr1/YtFJo4jVLvZU90/q3Dixr7DpbUJtIewdeEtE/qgO48tGCmsnQqnU6GpsQqap1C3\n",
       "7ZAQJuRZxN/i66uslmUj4B1v/X5KNEPr1kJkoWixjA5YqmBJL/93lqEloJBzqZ0IFdHZIO24XJYz\n",
       "hCI6itdSp5Jlzs169Ybx47RkF5qJzkpOFXu6vusBAJrCHfdJsEuT7RgTuGbkDYz+CTlj8khszqFv\n",
       "xt75c85yGBbFRXAM0uXV7ug6+ggEb+W3KbJ4JokPgbmZOuiCcL4Yn+3UCt+eGlJkJdl2ieP9QvQ9\n",
       "IOhb0m2EKYxtlMnKHu6l0byEYSC7/wtTLv6+0gZ3kfjrqY0GkOmTOnwyDm3Ie5Q3hp5PQqK9oIZU\n",
       "lYOEVblh360wD3ACM5GRR09UgLj+Iu9CHDoy74Pn6ilnhuNfA7mTmwNJyimq/ehGWHui4SDq1hpS\n",
       "yXAGoj+i9nfDtmPY6mu1kf54dcLMLOsl1oig9vneffgA8p2OqsDmoyJRNeEjd/swsaVjdGglz/YV\n",
       "9/A0hFK2a1Kc+Hxfll/CwdwOpxzhv9TENULXe7hq0rgKFyowfxD7ofo+WG4yxkAee9LkE9JckAHL\n",
       "XEDkQu5jIji0S9hXN3sq/ufmvubUvbkXpU04jzWsIi6qY1/LGNPLfi11LiAU9aFywhyIXGaZ0tne\n",
       "6m5XPLCQyyfj+wiFsV/y8UZM7VnkXF6/HC/12k6/1xZkIeD3EkhJ1tbJEvaCiGPGzOryzLIj0Qxn\n",
       "RVaZuTquh7jNg+PvHznC6rYyjxYvZlGTfca9+2/vCCSfSBNGKaldHw4VxTa1uoXAjRZQJ+xf73NL\n",
       "y0EDAvEdeAc21k9X10M8ONGH5foz9qGWX1gFOYVio0hgeZZh8ln2iQ47AAFF69b6QsnvzD96qg0u\n",
       "TNM0UcnRq8xhdZy7nZZ0xlRzBvZ2eBOTGr+E9Q8gnAmnu2Rbk3tIqX4E37hdZigPWRGQ2V9vxYHf\n",
       "w5X/EmvECOM6S8acuzQur2E3ewJg7kO4/0uhiaexV2fXuen7EhYJzU8Tu30vvAe4AMyhXF45Wyl4\n",
       "pCAkIXIqDFehkcYVrLMhq3ZAmRV8TCoo1CsvKkZHr74qXQX8h6SLXJPK1MbUL4twEDyXAYzgqSkc\n",
       "zraGCWnwu1MfKufk1ZOPwABMF0e8cPIBgmcjYqrLWDgvoXc37RwIs8NmlDcPLgrsFb2sHOUVvWtx\n",
       "W5l9UzB5DrxdW9BiI48BVNC1p8Bu8EwyWBn4azZ8Zm5N3RX81h2pQO0nTsBusTZ9i1xbYJgJaQoH\n",
       "JasfrC2Ut0Edms1mmUoDZP01qHujIsLwxZN4YHDGu5X+ee0wW2UyIYg7A9lm7L4FUDKm7TAkR8Ao\n",
       "yH7r0bMNdO6DTTf3tXWQyUaadEDri0Gq65TXvfzE/2PZXTWQKKSbaTb102U/b3eFsXRUmV8hV21Z\n",
       "0MSyan6gSdkDubaJ6GxuxX43E96WSwVH4bBoYil3P4rOd+dQJEgUx2fbBMURHdp4qm6qmtn9S94w\n",
       "oCIdePChNI9x+flJD5/wHXYARhrFO2ueb41TCowlwAtlex4mPjBkV4MrnJ0DAsxtBw5HPO+k5lr1\n",
       "OuN/fxxiJy4at5BV8skc+Or2awGCfaMvGXh9PE/zDKgf2mMKaUDpUe4AAeht16u5bdh8AhEMdz4M\n",
       "XBtpRMHxz+2clkOPEyB+6toMmucRGbqr3EUmEPJMsVVt6Q/ity8otUIu5mPO44lkXmCxpmhsLmkd\n",
       "XsDo/kDoF/ipm445Nllwdq5UEBxtszuEDVV/+70wRFx7NZ9xRNe322sRV1MH0gjy5xgQyiXIigW8\n",
       "VAcLjNM+MSyjl6vZCrEnzpF7q+SscxrWseVlveBJ1zCdKENqRZrBd54nobdAoRZlPyD7fUZHXDC5\n",
       "GycIeHTZG7K20KjGY79/cgWmelfd8B/WySJ/27k+jht+SvttwT5K4QcGWQuhMzsYyPL4qwrmBSIO\n",
       "nEBG1cq/HgyC51egFaBs2ENSuaSPKkODiCL9VKGs9VJ+4g29HrMMOGGGy11UcBGrw7V2aoVb62A8\n",
       "xYh4jRd0CtpRQIHDrd11Fx+0yV4QnNiKPzBs7+1zG304qWUrypkmnRMGeF1ofLB5qchlZ0kDplBL\n",
       "SmU0/czYZIhweQvlyI7oIBDj8uizxtXhoAWngedUOPrXkYYJYPQlCkuSd5sl7x5v7df7zsU+bJwO\n",
       "p2eoffnApt7FShiWkwVDyL6DOceKo3Y8GM5Ak6bBCHW2Kpy5OLLZ4pVYApN/iNcyQXollf0ebw6J\n",
       "9tP+YDn2OfD8WHZt8iLcOcCKyCCsAPzUiX99HDuh74nWUPartUhyzFqXHQOwqZxltgrIbruuEBbw\n",
       "47USgJu43y4BvZrZak7A9vImUtmQl5WvLfJ8P4tT48UdoAxk2bOiPIqQO1RN5Qcj462FUJtxV1On\n",
       "3vWycLGEWgx2gbQ/Rsc0h9vLOiIr1WZKV5LeQm7S77ulYVe6yIfG/tN7MmZUmpOwU0QlS+BQXsr5\n",
       "rMCAwo0qSWS1Xh22pRy7bnPt2D9P63ogi5AFmyN6vNBuxJJZ8dmriDpLbfl1FMXhge3cRH6a4WG9\n",
       "zCbg34PzeE5hkjcG13lzMH/b0GTdhbaVu3hOpKkmRzdgMkxb42nu9FoX5Qi7nLrZF859kd30G4Ne\n",
       "56Alj6xkchs9r6+fT8kKiHlHgO6NFdukn+8m+mG2GlHNF3KY+nTM8o9d47Bv0CtoiD8nBkSth3Ox\n",
       "acyXRkPI28fYxo3j9SlUuyFpw1VdyclH4B09XCj7tYjv0kt1hEIhCLmuYWDqu+LVreQpV7tfmJym\n",
       "2yJ/x3VNtqmz2MLdyYwtSF6Hg93kC6mE/gmUkwKwUaPqHCMbQVN6/WfAnjom1RjCd27FH7FAKfc3\n",
       "0Lbx3GkdfQGUCriIErDIbctYvHGmDeKIcQJcdqPVSJWDYes8py4z7KGRUVS7vpZikM1FvC2/yrfX\n",
       "JVgqSlnzLoRW6VGA5qCUjDP9ro9l+lGcMvmzP6M1VlCUAqIW+J1FhSdGhm1pvEMAu1Kt5Snu2K2u\n",
       "6VyUXC7PhdDxAX7qHLdBy8L37k2noq0pR+78SRGNbycG4bL8B8rGMd0ILF5tvBiptMvX4+TDx9Z9\n",
       "cS31Glmmj1Y68xzTxrz44BJxP/wcGUEeJsPI3s4+X3ITNy6j3Y/CoDjSqrfA4gbTDxzFAXmwnITH\n",
       "eDKk3ohIlcRDiM4CK8w5sPiZSM53y7uh/BqaIlRBpwOjPlvYLX1IJGpX/0VRsaewxAcxVGAAXj8+\n",
       "YljXadoyaduQfYQzEv1SkXNx0HGN9jnW3AhmZPPinEUDCbZPEARluEOsKS5bJkAVmwgjWB4dg4vq\n",
       "8s5nK1hPbfBMCN5GqN0Dh6GMITjcI1omNyCVnSYizt/r/TYFhf1EBC5NRy3TYORCPUB6yzgVrz2g\n",
       "9ovrxlB/LNq7PqVLxGPR3RD3vgyTNm9NtAvLKSRw0WSIJ5qeV38f9A2Z1r+wHaB3GXyC4n2+8aMC\n",
       "oBHeFbCSe1wtKoN1E/Xs4So6Ew0rafiTn4au+d3xgdaXLkObcVCOlL8UrglQAMe4axAaWWZ3qc0H\n",
       "MYLWnFIJExB8w/qmUZ2YYkID0JKPRQDON+lnaQQSU2jhQqyaUAVjDKYW846P25xyX0uPCIAZg5rX\n",
       "l5zUpkvltuW07goAttCGH++O4rseJak8aaC5ht7WpIrG2wuMIuj+ZBEjXua2pj1cuG8r1g2sOPiK\n",
       "AKDOBTCxp5q9bXc8dC2v8vSA/1ba5oXnICfN95bDOIdgHDL7PpJEGsIzhOWgtOE1g6zkpOGt8f+2\n",
       "fvuBuGRTx4Pe86pT4FSN/IzOOEqowdzqECGuvAVB6gcJZTHqVEMkU+8APk956I2olGHNCNdC4eLr\n",
       "jh27PehGwKb3EcuA80pGts2upCI1xl74kcr5xAcd6q4KYEBlULXjlYgyNIroHhbEuRk7HKb3tOYv\n",
       "TzfyLW73zGUiF44IIlvMcO5N4sjK1rsodndoPoWiDAHli2XBAiJNq1Kp1+dnl6v1+0xRdAtXiT6u\n",
       "vbq/qY5z1bSNWRG+MSepGU5OHHACpbyiVsPXyvO9gVc94uY93QjPTNl4zVr/VNc3XQxurI4eARGh\n",
       "D5zaOwjCaI8Nuzs/Tehk1wHaHdzaUhKZpbJA5wsmF3A7BDeJwVcJKZYaS8a/Pkq47oii8nW4rhBb\n",
       "ZXU7S+gyTddhsBt8Lz68HpCb8AtJ6Ror8l7Ft7Rk17TOSKLymrARAxbnK56fM+WFQtp6CJFGg+4n\n",
       "6uqv2DuLug+3czt0B7+U2+uZRXuFy5hTcX+SpiBB3ZB8hWnu13JI8iiMDQIYQiw+WWSK9YK85eWD\n",
       "zH3/JlsM+lbbI21BbWXtbpvmklycaWMhwH1TwQWwTu3d5JMlBpL3EkiMSdF3NIYnZpzpVPEKvkzN\n",
       "ZTQjFxdd/WxDH6JE8z0Z3rr4i+dKKjqRexQRGnvvjuiynhWg9wBwfusJJExMdNcl97daKRn2DU4J\n",
       "YSjgAdEAAABbQZokbEEf/rUqgAUoqDFgCYlWWbF5VC2I6Jv/cdt/gnr8nyghmVHwaNRqPsIetpXv\n",
       "iAyvTLUbHUXVBqc9Z1/q3PWzQKHK2ge6pdZXORBCA0mu4t5KNSHZADkMmAAAABhBnkJ4h38AFBMe\n",
       "ES6dAF8V7NAU9oyaOkcAAAAVAZ5hdEN/ABxNP/EX3lABrAW3dcFQAAAAEAGeY2pDfwAAAwAAltew\n",
       "B0EAAAAWQZpoSahBaJlMCCP//rUqgAAAAwAChwAAABJBnoZFESw7/wAAAwAAakkAHzEAAAAQAZ6l\n",
       "dEN/AAADAACWvskHQQAAABABnqdqQ38AAAMAAJbXsAdAAAAAFkGarEmoQWyZTAgj//61KoAAAAMA\n",
       "AoYAAAASQZ7KRRUsO/8AAAMAAGpJAB8xAAAAEAGe6XRDfwAAAwAAlr7JB0AAAAAQAZ7rakN/AAAD\n",
       "AACW17AHQAAAABZBmvBJqEFsmUwII//+tSqAAAADAAKHAAAAEkGfDkUVLDv/AAADAABqSQAfMQAA\n",
       "ABABny10Q38AAAMAAJa+yQdBAAAAEAGfL2pDfwAAAwAAltewB0AAAAAWQZs0SahBbJlMCCP//rUq\n",
       "gAAAAwAChgAAABJBn1JFFSw7/wAAAwAAakkAHzEAAAAQAZ9xdEN/AAADAACWvskHQAAAABABn3Nq\n",
       "Q38AAAMAAJbXsAdAAAAAFkGbeEmoQWyZTAgj//61KoAAAAMAAocAAAASQZ+WRRUsO/8AAAMAAGpJ\n",
       "AB8wAAAAEAGftXRDfwAAAwAAlr7JB0EAAAAQAZ+3akN/AAADAACW17AHQQAAABZBm7xJqEFsmUwI\n",
       "I//+tSqAAAADAAKGAAAAEkGf2kUVLDv/AAADAABqSQAfMQAAABABn/l0Q38AAAMAAJa+yQdAAAAA\n",
       "EAGf+2pDfwAAAwAAltewB0EAAAAWQZvgSahBbJlMCCH//qpVAAADAAAFDQAAABJBnh5FFSw7/wAA\n",
       "AwAAakkAHzAAAAAQAZ49dEN/AAADAACWvskHQAAAABABnj9qQ38AAAMAAJbXsAdBAAAAFkGaJEmo\n",
       "QWyZTAh///6plgAAAwAAE7AAAAASQZ5CRRUsO/8AAAMAAGpJAB8xAAAAEAGeYXRDfwAAAwAAlr7J\n",
       "B0AAAAAQAZ5jakN/AAADAACW17AHQQAAABZBmmdJqEFsmUwIb//+p4QAAAMAACbhAAAAEEGehkIb\n",
       "/wAAAwAAluRkdCEAAAAQAZ6laRDfAAADAACWvskHQQAABQ9tb292AAAAbG12aGQAAAAAAAAAAAAA\n",
       "AAAAAAPoAAAPoAABAAABAAAAAAAAAAAAAAAAAQAAAAAAAAAAAAAAAAAAAAEAAAAAAAAAAAAAAAAA\n",
       "AEAAAAAAAAAAAAAAAAAAAAAAAAAAAAAAAAAAAAAAAAACAAAEOXRyYWsAAABcdGtoZAAAAAMAAAAA\n",
       "AAAAAAAAAAEAAAAAAAAPoAAAAAAAAAAAAAAAAAAAAAAAAQAAAAAAAAAAAAAAAAAAAAEAAAAAAAAA\n",
       "AAAAAAAAAEAAAAAB9AAAAZAAAAAAACRlZHRzAAAAHGVsc3QAAAAAAAAAAQAAD6AAAAgAAAEAAAAA\n",
       "A7FtZGlhAAAAIG1kaGQAAAAAAAAAAAAAAAAAACgAAACgAFXEAAAAAAAtaGRscgAAAAAAAAAAdmlk\n",
       "ZQAAAAAAAAAAAAAAAFZpZGVvSGFuZGxlcgAAAANcbWluZgAAABR2bWhkAAAAAQAAAAAAAAAAAAAA\n",
       "JGRpbmYAAAAcZHJlZgAAAAAAAAABAAAADHVybCAAAAABAAADHHN0YmwAAAC0c3RzZAAAAAAAAAAB\n",
       "AAAApGF2YzEAAAAAAAAAAQAAAAAAAAAAAAAAAAAAAAAB9AGQAEgAAABIAAAAAAAAAAEAAAAAAAAA\n",
       "AAAAAAAAAAAAAAAAAAAAAAAAAAAAAAAAAAAY//8AAAAyYXZjQwFkABb/4QAZZ2QAFqzZQIAz5+EA\n",
       "AAMAAQAAAwAUDxYtlgEABmjr48siwAAAABx1dWlka2hA8l8kT8W6OaUbzwMj8wAAAAAAAAAYc3R0\n",
       "cwAAAAAAAAABAAAAKAAABAAAAAAUc3RzcwAAAAAAAAABAAAAAQAAAVBjdHRzAAAAAAAAACgAAAAB\n",
       "AAAIAAAAAAEAABQAAAAAAQAACAAAAAABAAAAAAAAAAEAAAQAAAAAAQAAFAAAAAABAAAIAAAAAAEA\n",
       "AAAAAAAAAQAABAAAAAABAAAUAAAAAAEAAAgAAAAAAQAAAAAAAAABAAAEAAAAAAEAABQAAAAAAQAA\n",
       "CAAAAAABAAAAAAAAAAEAAAQAAAAAAQAAFAAAAAABAAAIAAAAAAEAAAAAAAAAAQAABAAAAAABAAAU\n",
       "AAAAAAEAAAgAAAAAAQAAAAAAAAABAAAEAAAAAAEAABQAAAAAAQAACAAAAAABAAAAAAAAAAEAAAQA\n",
       "AAAAAQAAFAAAAAABAAAIAAAAAAEAAAAAAAAAAQAABAAAAAABAAAUAAAAAAEAAAgAAAAAAQAAAAAA\n",
       "AAABAAAEAAAAAAEAABAAAAAAAQAACAAAAAABAAAAAAAAABxzdHNjAAAAAAAAAAEAAAABAAAAKAAA\n",
       "AAEAAAC0c3RzegAAAAAAAAAAAAAAKAAAGMkAAABfAAAAHAAAABkAAAAUAAAAGgAAABYAAAAUAAAA\n",
       "FAAAABoAAAAWAAAAFAAAABQAAAAaAAAAFgAAABQAAAAUAAAAGgAAABYAAAAUAAAAFAAAABoAAAAW\n",
       "AAAAFAAAABQAAAAaAAAAFgAAABQAAAAUAAAAGgAAABYAAAAUAAAAFAAAABoAAAAWAAAAFAAAABQA\n",
       "AAAaAAAAFAAAABQAAAAUc3RjbwAAAAAAAAABAAAALAAAAGJ1ZHRhAAAAWm1ldGEAAAAAAAAAIWhk\n",
       "bHIAAAAAAAAAAG1kaXJhcHBsAAAAAAAAAAAAAAAALWlsc3QAAAAlqXRvbwAAAB1kYXRhAAAAAQAA\n",
       "AABMYXZmNTYuNDAuMTAx\n",
       "\">\n",
       "  Your browser does not support the video tag.\n",
       "</video>"
      ],
      "text/plain": [
       "<matplotlib.animation.FuncAnimation at 0x10d7a3850>"
      ]
     },
     "execution_count": 16,
     "metadata": {},
     "output_type": "execute_result"
    }
   ],
   "source": [
    "ani"
   ]
  },
  {
   "cell_type": "code",
   "execution_count": null,
   "metadata": {
    "collapsed": true
   },
   "outputs": [],
   "source": []
  },
  {
   "cell_type": "code",
   "execution_count": null,
   "metadata": {
    "collapsed": true
   },
   "outputs": [],
   "source": []
  },
  {
   "cell_type": "code",
   "execution_count": null,
   "metadata": {
    "collapsed": true
   },
   "outputs": [],
   "source": []
  },
  {
   "cell_type": "code",
   "execution_count": null,
   "metadata": {
    "collapsed": true
   },
   "outputs": [],
   "source": []
  },
  {
   "cell_type": "code",
   "execution_count": null,
   "metadata": {
    "collapsed": true
   },
   "outputs": [],
   "source": []
  }
 ],
 "metadata": {
  "kernelspec": {
   "display_name": "Python 2",
   "language": "python",
   "name": "python2"
  },
  "language_info": {
   "codemirror_mode": {
    "name": "ipython",
    "version": 2
   },
   "file_extension": ".py",
   "mimetype": "text/x-python",
   "name": "python",
   "nbconvert_exporter": "python",
   "pygments_lexer": "ipython2",
   "version": "2.7.14"
  }
 },
 "nbformat": 4,
 "nbformat_minor": 2
}
