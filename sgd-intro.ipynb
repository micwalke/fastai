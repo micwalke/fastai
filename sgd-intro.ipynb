{
 "cells": [
  {
   "cell_type": "markdown",
   "metadata": {
    "toc": "true"
   },
   "source": [
    "# Table of Contents\n",
    " <p>"
   ]
  },
  {
   "cell_type": "code",
   "execution_count": 1,
   "metadata": {
    "collapsed": true
   },
   "outputs": [],
   "source": [
    "%matplotlib inline\n",
    "import math,sys,os,numpy as np\n",
    "from numpy.random import random\n",
    "from matplotlib import pyplot as plt, rcParams, animation, rc\n",
    "from __future__ import print_function, division\n",
    "from ipywidgets import interact, interactive, fixed\n",
    "from ipywidgets.widgets import *\n",
    "rc('animation', html='html5')\n",
    "rcParams['figure.figsize'] = 3, 3\n",
    "%precision 4\n",
    "np.set_printoptions(precision=4, linewidth=100)"
   ]
  },
  {
   "cell_type": "code",
   "execution_count": 2,
   "metadata": {
    "collapsed": true
   },
   "outputs": [],
   "source": [
    "def lin(a,b,x): return a*x+b"
   ]
  },
  {
   "cell_type": "code",
   "execution_count": 3,
   "metadata": {
    "collapsed": true
   },
   "outputs": [],
   "source": [
    "a=3.\n",
    "b=8."
   ]
  },
  {
   "cell_type": "code",
   "execution_count": 4,
   "metadata": {
    "collapsed": true
   },
   "outputs": [],
   "source": [
    "n=30\n",
    "x = random(n)\n",
    "y = lin(a,b,x)"
   ]
  },
  {
   "cell_type": "code",
   "execution_count": 5,
   "metadata": {},
   "outputs": [
    {
     "data": {
      "text/plain": [
       "array([ 0.9564,  0.4041,  0.0845,  0.6331,  0.2315,  0.9989,  0.1074,  0.1117,  0.6955,  0.5966,\n",
       "        0.0988,  0.3934,  0.0933,  0.3071,  0.6119,  0.5565,  0.0224,  0.2752,  0.2827,  0.3801,\n",
       "        0.0653,  0.3732,  0.8516,  0.6849,  0.3696,  0.6587,  0.6361,  0.3128,  0.1117,  0.3667])"
      ]
     },
     "execution_count": 5,
     "metadata": {},
     "output_type": "execute_result"
    }
   ],
   "source": [
    "x"
   ]
  },
  {
   "cell_type": "code",
   "execution_count": 6,
   "metadata": {},
   "outputs": [
    {
     "data": {
      "text/plain": [
       "array([ 10.8693,   9.2124,   8.2536,   9.8992,   8.6945,  10.9968,   8.3221,   8.335 ,  10.0866,\n",
       "         9.7899,   8.2963,   9.1802,   8.28  ,   8.9213,   9.8357,   9.6696,   8.0672,   8.8255,\n",
       "         8.8482,   9.1402,   8.1958,   9.1196,  10.5549,  10.0547,   9.1089,   9.9762,   9.9082,\n",
       "         8.9383,   8.3352,   9.1002])"
      ]
     },
     "execution_count": 6,
     "metadata": {},
     "output_type": "execute_result"
    }
   ],
   "source": [
    "y"
   ]
  },
  {
   "cell_type": "code",
   "execution_count": 7,
   "metadata": {},
   "outputs": [
    {
     "data": {
      "text/plain": [
       "<matplotlib.collections.PathCollection at 0x110af1f90>"
      ]
     },
     "execution_count": 7,
     "metadata": {},
     "output_type": "execute_result"
    },
    {
     "data": {
      "image/png": "[encoded data removed]",
      "text/plain": [
       "<matplotlib.figure.Figure at 0x10e67b410>"
      ]
     },
     "metadata": {},
     "output_type": "display_data"
    }
   ],
   "source": [
    "plt.scatter(x,y)"
   ]
  },
  {
   "cell_type": "code",
   "execution_count": 8,
   "metadata": {
    "collapsed": true
   },
   "outputs": [],
   "source": [
    "def sse(y,y_pred): return ((y-y_pred)**2).sum()\n",
    "def loss(y,a,b,x): return sse(y, lin(a,b,x))\n",
    "def avg_loss(y,a,b,x): return np.sqrt(loss(y,a,b,x)/n)"
   ]
  },
  {
   "cell_type": "code",
   "execution_count": 27,
   "metadata": {},
   "outputs": [
    {
     "data": {
      "text/plain": [
       "8.7036"
      ]
     },
     "execution_count": 27,
     "metadata": {},
     "output_type": "execute_result"
    }
   ],
   "source": [
    "a_guess=-1.\n",
    "b_guess=1.\n",
    "avg_loss(y, a_guess, b_guess, x)"
   ]
  },
  {
   "cell_type": "code",
   "execution_count": 28,
   "metadata": {
    "collapsed": true
   },
   "outputs": [],
   "source": [
    "lr=0.05\n",
    "# d[(y-(a*x+b))**2,b] = 2 (b + a x - y)      = 2 (y_pred - y)\n",
    "# d[(y-(a*x+b))**2,a] = 2 x (b + a x - y)    = x * dy/db"
   ]
  },
  {
   "cell_type": "code",
   "execution_count": 29,
   "metadata": {},
   "outputs": [],
   "source": [
    "def upd():\n",
    "    global a_guess, b_guess\n",
    "    y_pred = lin(a_guess, b_guess, x)\n",
    "    dydb = 2 * (y_pred - y)\n",
    "    dyda = x*dydb\n",
    "    a_guess -= lr*dyda.mean()\n",
    "    b_guess -= lr*dydb.mean()"
   ]
  },
  {
   "cell_type": "code",
   "execution_count": 30,
   "metadata": {},
   "outputs": [
    {
     "data": {
      "text/html": [
       "<video width=\"500\" height=\"400\" controls autoplay loop>\n",
       "  <source type=\"video/mp4\" src=\"data:video/mp4;base64,AAAAHGZ0eXBNNFYgAAACAGlzb21pc28yYXZjMQAAAAhmcmVlAAAr0W1kYXQAAAKhBgX//53cRem9\n",
       "5tlIt5Ys2CDZI+7veDI2NCAtIGNvcmUgMTQ4IC0gSC4yNjQvTVBFRy00IEFWQyBjb2RlYyAtIENv\n",
       "cHlsZWZ0IDIwMDMtMjAxNSAtIGh0dHA6Ly93d3cudmlkZW9sYW4ub3JnL3gyNjQuaHRtbCAtIG9w\n",
       "dGlvbnM6IGNhYmFjPTEgcmVmPTMgZGVibG9jaz0xOjA6MCBhbmFseXNlPTB4MzoweDExMyBtZT1o\n",
       "ZXggc3VibWU9NyBwc3k9MSBwc3lfcmQ9MS4wMDowLjAwIG1peGVkX3JlZj0xIG1lX3JhbmdlPTE2\n",
       "IGNocm9tYV9tZT0xIHRyZWxsaXM9MSA4eDhkY3Q9MSBjcW09MCBkZWFkem9uZT0yMSwxMSBmYXN0\n",
       "X3Bza2lwPTEgY2hyb21hX3FwX29mZnNldD0tMiB0aHJlYWRzPTEyIGxvb2thaGVhZF90aHJlYWRz\n",
       "PTIgc2xpY2VkX3RocmVhZHM9MCBucj0wIGRlY2ltYXRlPTEgaW50ZXJsYWNlZD0wIGJsdXJheV9j\n",
       "b21wYXQ9MCBjb25zdHJhaW5lZF9pbnRyYT0wIGJmcmFtZXM9MyBiX3B5cmFtaWQ9MiBiX2FkYXB0\n",
       "PTEgYl9iaWFzPTAgZGlyZWN0PTEgd2VpZ2h0Yj0xIG9wZW5fZ29wPTAgd2VpZ2h0cD0yIGtleWlu\n",
       "dD0yNTAga2V5aW50X21pbj0xMCBzY2VuZWN1dD00MCBpbnRyYV9yZWZyZXNoPTAgcmNfbG9va2Fo\n",
       "ZWFkPTQwIHJjPWNyZiBtYnRyZWU9MSBjcmY9MjMuMCBxY29tcD0wLjYwIHFwbWluPTAgcXBtYXg9\n",
       "NjkgcXBzdGVwPTQgaXBfcmF0aW89MS40MCBhcT0xOjEuMDAAgAAAE/5liIQAEf/+94gfMstp+TrX\n",
       "chHnrS6tH1DuRnFepL3+IAAAAwAABHUc0eeasjtsuwAABa+H/wWj/JBwYI2SHqArWYJtT2AcoVb6\n",
       "Z5cXrjKoRmcfZ0R09GRrMEQ5DYS9sESC6w58mkXqcHTxDG/lWWVovBG5jycifSNe/ZmfsR7rHvgw\n",
       "AEWToYDx91fdvUukGH3qv5oz869YvkEk0oq8dVBM5cn9OTMPNzVFt2GWw3y7he5WIU6IIbrjm6/2\n",
       "FMiP5JHr/yqTCdB4pswF+FLfbC48fg26whK9GBC4b/bg4ny2JnwV2D+MtW7esnElzltvXVRsJ8H6\n",
       "NrZD4811bnKYaMZXinGwMjQYuJj37+6L/zpeyyCoM2LtJuEMQxJkU9C10mRqZOST74GoQObtxa0c\n",
       "5deRKSKX/gkOn9wqK0i9wBs60WN3e1/ldavsxtTZMCzDHSTlYQDAEd7wwwy/OTvW/9cR34+c0ulL\n",
       "5Mf617ISgt6vxX3CQ+w22nUvhgqcdmS/5vo3tJPPO+pmUCHG8VM+KXuY7qXm7Z+MQB41WfwnY2U0\n",
       "1wbqswqnVD/2pPbT6+xVaHPbiW40RG3EM82O1kfyTM+XTlQN3BPPurEamA4bcwmItLd5L/Lkx6i0\n",
       "VARitZ/mi71Fx5S++x3/ifIFAZAaAOMTQrFs24FuGL3EWgnTBGhKAkz9xv4+sWnIB60THleelHgX\n",
       "0wA9rI3ovjKlQnyd1+iKJDr1JLzGdrhGS2tgb4Vy997blSLgSzyqCK6yI/P9gDITF/d0rziQYH78\n",
       "RrKD6kgI2VDTnbu4+oNrOcjqEWemDI6nKvfKZ/wrX5kHNcdYqAs9fHoGHk9GLwHrQmrSUi36gcaG\n",
       "aNnrfATdyo/GBLWKETXtOzDs354iI/ud+NYy3WTg4iiDgCjALXewB/GVFtU3fMUSO5kE+IHY2VXp\n",
       "ESlcbzShpQ8XLWT478c9IosJFxjUJ7MLSCSNjPcjM5ycqFIyc4wgAvW5EJJ17lWPMwl97/mg3zk+\n",
       "5GH3Vj+vlIbMo8rzAVv+yIGxGHUlTBlO8WnKhZirCQfp/Y6fW7jVpr7vPkZtaHmosO7CJccBR3I2\n",
       "qc5sUlkxvq4bwfcsc1Q5WU4+uNraXEPDN4hBJqxBZRt2Us8aAZT6Wm4IiUgHIv/plZixpuwUbQLZ\n",
       "NhfgtwmmcGG6vWPrfz3TDQwody5oI8qHUYTsAa52J4/cqVwsOwQYVdy0GHGGU8+gU2+1db845Q2x\n",
       "D0Tz5Dhuu61+Z3vekP5S5K4WapTzrh4R20V0VQJgczsFYEN9gZrkounnvRtn4jCHOvQgDlExvqZb\n",
       "EQFEQ1d5QizhGmAtOVb7IPAdbjoIXpXyz02YdDdhl2YdxLnhJn90OYge9i23NcdeUIysBLr/gvBn\n",
       "J7krgDxxJM4TRA1sUmjpcZGHcQWCnawaJoUqc/6B4p3OIO7OudUvUA7JZ75yIhBn0TFNcwnj3fFa\n",
       "SHrK0UCNOTkTw3mYwB7PdMQDAIuj+Fv5odRh7qlYzQ6oN7K8zhTUEFcDuZ2ntYgY16pXDg/W8uVF\n",
       "RBzujLuedRKx5/9xvw/oJdUXq8z27eCEZoXrtRWKaL2ZQF9MpmaW7cXXtbCAqh7ooJcEG+3+py8H\n",
       "X378QcBFi+eWHsn3neiY8AIJhvXuZXad9qLn79DfDKv7AopN8ZCjhGPEyGWd42k1kmK6ItgR0Q5X\n",
       "w/L3Fjj8TXH/t+9rEOMDg/Oix/27Pppcarh3MpbHH+k1U8s8013BBpqWxPHCzGw6TudIu64GhJoL\n",
       "qQ233I6qUAnfORgmG353mDRM9uRxnmwlCFNBfsSBDAeBzK6vyB04mP+I4jsZGbrJfH1ydKyJqH1o\n",
       "QHucR2F9rwFDrzfY/MZ5IcMKe4cNQfdqLte0vUOvP+QykTzPVHONRL7rVmlNOrjQNvij4sCplXEK\n",
       "cwBfzeJcocHdRkraxk6aRMaJUGRPAeTzo5obVHMaoTmMlypLRHt/MqXpH+RMqgvh/Mjr0kMX9L39\n",
       "I77462GAqrTbPm2AcM7CARl2nXAXWCMJY89hC4HrP6bFWdizBOz4QxbceJTeaX2F3QWH//Pyk4h1\n",
       "CINUF4j48wzdh9TsP9xXm5R2uwh2wSrQ3hhfTTqpNoO8aZN1KhXdUF5qrMA89chSNYBRdrfKzbwx\n",
       "pTByBg+j8VjKUofLnDzdMm04cGHV2D5PYRrp82hpB4+cCvB5iu3zMcEQZUhD7ri8TZnswY9EMxZw\n",
       "OJ44X1/34ZJ2VdSQRaynMEj61Inf0L3YibHsiZfsWNT18znJkcOIMDLJefIwDRKL78eQajMNLw+O\n",
       "i8ae2DAj7HqXswg+jhmdC4k/XZfRiq2FCSHaV4e3SBWTXq4P307zWwv8LcX4c/pqMsB1d9H8BtRZ\n",
       "0xkX9duKDPZKaV4wU2crzszrlYudc+VqksqDq/p+5k9rfV4S7LNv4koQFqJxyHCXYkwLKHe0K8aE\n",
       "Azj8tFbQki+Tnc39Bbw1pnv64Q/BHxxfEZcedUKqO3Cu2qtqNDQrusuLBTjgEEUcS/7HDWeLsSWR\n",
       "TFyRaNBbC1b+SjZgIXHFMfc5VeQCmXveIzjQlql7W1AgEANxmqpDI2mFgfTBVwvUFLpTgYWelGky\n",
       "e5ciyT6ujerfsWWDkaB2GW3kAZSFpJFUajMHrZxVODfRwbSRs5vj0k1b1gxOY3b5md5dIp1BAhUs\n",
       "0cjTXpOZpqJKty78YMWtyGlSEUKxPPyaMYzA135sa8yA77uuMZ4uAjek0Sk7flB5hfPb9OJzxeF8\n",
       "H4c1PuJU1dZJvZGY1S6qMKPGIctAFqDjtcDksKsP5cDlsxvP//YIjcsVj/5frd0kd0tdomCh+EXx\n",
       "+Re6UW7DCUbyDWc4oLmnVoL7ktG/7iLeIjD5sWBzjcgkFptpaPTfUUQwSUuOxPMs08Iv0i1NAsbG\n",
       "anXnob/zKRiIPZZRPpBjcllg7UEq45uUfsiNrxRiSZbsJ/mRq22VKHZ6AGOT6b8Pm24W2+1f6xIV\n",
       "76OtGEkyQuQuoeIKOeP1qvyyRiGvgpAETrtU1bUUK7QF6NGYQuu0u/MNNwzfA4L6KOrGukx6ppRN\n",
       "YsUmurvcVGDcBNZHfbJgd7ar3WVo6Nev9zU/3MANfbyLHevZruav4BkPF3n86bJkuEO/p4KiMXrx\n",
       "7QS/BYaMz1JM01VLxGt8EtrmhQvfjgwF+JOLoXajrEnCRbZpnmu9su0NIrn+Yc8dbDV3rGZSB8xn\n",
       "CI7XTDRBrm7Z9bKf3/Ua/5zsmEyxkLo88XN1WWPx8BxLGQsbWjpfxVLYrs2701exwDcXpluCybpl\n",
       "0kIRhnjG6hAXCi54y0/1HWHNQ8ZrEABIxZOqKfFtikK+Ku90c4KS/y5pGmV7pFeH+42umtEqeJ9C\n",
       "aKi/mm3IPXlUAatOvNkBCZPmL1BdjEKnzqTSOC+O9iV0LCKH93X29A0nZGW27k8I49WO3d5DSRgT\n",
       "Q17kTCF35I/l9lpXC2k/HisKDmyI2Qep0THB9AXn3ML0RcXswLz0wZ+/obJe0HBoBOyi8Yz+tgCI\n",
       "EqBw6/CxJpIDRKkTyWUfV2lVT/EW0Mv3n0rRzRLKiOne9M+qZZwlCoLxEyUQfTDFWWDV3AU99pSZ\n",
       "7UUhe/pzGUD1xjl4ffVbaOJIG/nb+v/ydpsCi6ymXOExtbvTbVm252oVmNLnAse1hpDsd5ufxkGZ\n",
       "jLIB/f/2TN35KlE2Jj6QMJaz2eEsQn0GGgP/h7QeH41ITFUNSXXil5hTp9zdfxTCo//Gpdh8+nDG\n",
       "gs3MJR8jkAaXZwOuepa32EHLtkGFjxxdH9ZjQSoihvYw6K73G0IAoQdgScpjPUxET7l1QipCtWuq\n",
       "cQGd66BSTdb7mV2358YWQ5abwDaGsfWL8B1ZGWv+aG6bViNJAxMuxqF7q94Yd7+ZRchulmOzc0kT\n",
       "YdgJoRsq4gPnQOUCBPJkVyXNENMgSdL7QWreFAZ967+wrTgefNbKx7Sx+jDXdU7wAatiEIX/eHnq\n",
       "0++p2QWKwhScp5ycVfz+Cg1KMzL7orbBLqYzjh6IWhWJZu60bH+I418eklCryEn9+UIUFfY97OnC\n",
       "GcrgMFrVporNLH+snr2vEQUASeOX+C9AfLBrMwzQjz7qpjusYXHqh/1fzdwVoORzas69kBq7KIcY\n",
       "2rvEoQO4iu18BntULtPCfRQoiTtBC/u35iATW/EouPbTxgfihAKrIqh1p8MFhW1ubPttjxmAkVXM\n",
       "+sY8mibvU8E1y8mGJY0U3nlYeVABwvljZ5LUPk+a7hdrik1K5CJIToriWa9AqKQMjbebxTzVPJFQ\n",
       "6XPmHqAb7F5UgjgCoii52GlhgDhC0h4ZkkSlcsOXqg3HOAU0tN9XwqZAn7nP6m5u03O1F7Jh3YLX\n",
       "85FPZJQG7T/CXZHSS94b7qjKCJNcU002qKow8rVFG5QQ4PdxXiGskGpC5UN/J9Ni+coS8bbMzCPJ\n",
       "YaHoCR0tqpF/5iN0CqjhE3ZDnWTqJj/M3a/biJdXptUcNxyN6ATbsWqNrYukyVkveqKPNKpFcWxM\n",
       "4yERioW/fThjstvwAsCod1EVhrHx/BlPYYlGzRY0PCq8ijGzBIuKhGedVMnahN4t40Bu6GeN+Yt4\n",
       "PvVixNRU8NT/MEW6ZusYjcaiERBujAhQ2V5YbAilVHycZ1NcdnwaPEGrP5aj47mQAH45SOOjsCuM\n",
       "tIOt06jikNFqPNzBNcUkX9oW1RFR5Pw3VoXGPGubXJUU6Tfj26NlcixSmizWkzqUmsrv4t6VuPF6\n",
       "l+d6BIJ4WZ9wARAwv517uInInwwk3wsWGJvoGOzCi8NZ9nDP7DINvU4wHX+KS38DT+gAZ2fl7//g\n",
       "g4LuJJuXlAVv2qs82J+s/HCra433dg1/8o1VuWK77s9xwUOcENRTATKjSygrEe5dVaGs6yt4VMMh\n",
       "L4Tz4Z6PICulWdbNqNTFcTqI3/6A07RQnGxM9CMh/Gs5wQRdRj2DOD/AKukolAR4ht0YSGtCA9IS\n",
       "4kZgyq6BCM5CoU/gta/0UiztagF3FNg33Eb2/91KNkJ1St+/lo0BmOQ4gNiO8kEVJUGr9Ab0W1m/\n",
       "HESfY5Ogpzf6+ArwEzoAqUef42hDDfTbctt+KxrQDt+PFmTr3P7SIdr7yURAGx4H0jXBYH9utpWP\n",
       "8j+Rt9I60Pu3+v6i+uK/jtdpZlbCRetKVnT2qVptWlH3lp0O8L+5PbAlMzt07DCxbxke4fFidJ9y\n",
       "dIvPyn9GdN2ESAF9KFrfHoUXjk08CjT0Vv7qUjGltCPyn3y+5CZuXUftFoFA40qq3wOIG0w8z8WL\n",
       "6Z2FP+3hWWpeHUn+s8MjbFGcBFeY6YPiZSM53y7uh/B+ZWejEGnA7BcBICeozere/u/NGb2Zx3t3\n",
       "s52V35yaJsms60WnaMmwxTdyO6KKNCsj+bjoMrMW2nqhl20zmZAV9MkgsDEShWQC2vBtvtVXsVpf\n",
       "bmFWvGYfDNmiGQC1uv6JQUg5CKEvaJ/D4m6L51hAqqLF9C6SxWuIG9GUml97F31Sao0eeOUDdg+E\n",
       "31PMY0mPD25JI1xX7Frnf88Z/DW1gIOVItBA92xs1oMk7EuYQ2ueepiL2HMk97Fa2nBC0PN7qtDi\n",
       "gtDD/fHcQ8mEU6v8vxQH1xVumbcPjESKVr3iNvWb2wY7bHKP8xvFoo58MgVNqTFr9BoOjcOgbrti\n",
       "ETJbY7u2jZU7O32K4xhrYCebQUPcDoiRBlJcVk3Vf61eqxBp15yAVZmu56+hnNHbfKpj+ivanKrt\n",
       "GOhlm8Zkdc+DmbhjVNQJkYRQQZsAxYdsgs9r9ZsswcIb2szZFkgYGT0MCOaUOrcyi8HJar38gVRK\n",
       "/0sBVSPeB+RMaSXynR5yqBCuvQ1hxSfkVfhkZmGvuBJ+uYvGk0dHmJwieOe0b/YkMGnMVURIMPQ1\n",
       "h896u+iasCqSVkf/yIJjR65K8UYJAx2yq5xZb79LFrViqg3SsEdUeOSfy71LTLEM5LbJJT6Ygk6w\n",
       "r7Gmyjyr75eX4eyJ8tW87by3QkKfe3Tl9daxMLPY674WV1tI00PNbGIC0RX+QTlrToG61nFAgial\n",
       "iKMW2N1IGLmzbyTe7M2bGw8Mw8LaZt90u79q4H84epmprN3eN/fOKLWHULh40Q9Nmtq3uaQ/g1os\n",
       "TjoRafpnuqx0vsoCyyAE5NMPyXqn6bhqiSeFDQxckIQTaMrFI/caZlhv4/ViaqkSIEI2Y7t1C4Ea\n",
       "LFLuQjjyrsQUloFsyd4zSfdOxXyweoZedQCKJbDuRJr53op82AcbWmUCVBV1XwsogiCfthckljDs\n",
       "XDkRIQksSLLpvoQUbuG67ziDvoTpeSIVxXgZ3dHzQC/ZJ6O2AuALcPHsqBGPDd4Dx5LVLu8C49c3\n",
       "XQxqRhEyhrICYP0j2z5LG62KUSeP28KMuMv7vjFri54jny5qi5ilOw1VPHjxQ6dyCghkW1wiAqoQ\n",
       "+XG1zUVmo4/8qHWzYe8bnTf8SGR8I0LFwyL+tNzRCLc97vzPSlWkmzuZDQhkYRkV/Nb0hihTWYhW\n",
       "x1UMD/96CoiDHVKEbbdZB3N0eGEN3VNhL+pwmcU91/No/W/XN0uWK+wkS8XWRzo6njo9rytNCoXy\n",
       "wBse4mJukQ5FkcbmeA4B8tiyZ6zkMcU3YMzajTliDzuVENqrVcTNcdVXLTt0jZzFkOQ0V8DiFeZO\n",
       "Hsc1gW35bouMoSDAFEmMostl+iSO0FfkB6xGE+BXcVfT3EMYRp7IUW/KxYLVNXBUbbnMSs4kUaJq\n",
       "8ygPJ0nSzKuEingmYBadn+M/U5eoTfvLLbpZ+k6LVg41loZ9NSwkNyg7n/tJDJrpU+bVc3argbPO\n",
       "bO4SsQgr+CRzg4xKgO1Q0F+IVaUY4ABbWI6fg08AAAV4QZokbEEf/rUqgAWUY6gBNfnU/BoQA3XT\n",
       "dkM/+8tFsoqBXJRzpuv/MKHZYBcBjtwV4iDo3/TeKIbFnzLQ/DdgfUayUEvuvfIM7HDCeo17NcnU\n",
       "y3XxYJHbaJGdvdJj9znfj8avc/wt10V+h26rxrwEs7FC3ZSDMr+e82KmOLgQrwBurWtGaMo+RMsW\n",
       "7dOTGq7FoVZfraLHwwaRRix2Ng8jdLCuhDsoMZt5cny7GiQtYlXd9ePeweoSqx/N36CGh4Cvy3Dy\n",
       "wT88c5EPxIhYTwuWOhd6P5wwFc89flKbWg1TOEJwxDZ6N1xmqrsLgFX2kwH+CiiSwchZfeo2gZcy\n",
       "zts5fmT1ttTSSD8cH9rj9zvaUU3b4o/Zz9wSIOklerrA4OsVUZdtEZBt/x7tym+6N3uY7+OtmX0l\n",
       "cHJ2z+j8LEuVL5u9HqeLK//wNTGDkZHJNWfB8kOh8Cn8y9fn6yQt93FWen6Xp7im8asGnjeG7YXB\n",
       "2gS3cE+TfV/KCGbdij8ch+WmW9Y3O3HsamIuN7+nZ5FUB4KZEKURId5C7SRlZwLvNwPImpARqByX\n",
       "RP5xiYtJN6NfeGOFRfvcqnyLU6dZhBKHemltu6+sklN2dOwISJf5VLI/qMkweO7PsC+VXsTXQSWC\n",
       "5OFrJ841JS3iRZnWfFzEYWmr8kbe6kcDkFhCth9hwIHytbe14fj3no55grno6gNb6gxvIL0uD/5f\n",
       "i5Bbe2j2liTTITcS7zFknqFQdQ1wXRl495HZkjjgLyGnijUIF6d+4I0ZSalMMUBXZD6pNtnYnucn\n",
       "VvsRduQ3alodhzH7ItiCivmzQMthK1l7e5/A6F0GHi5utbP+zPDIRRE7m4UdgWACcAk2oQi7e+Yo\n",
       "0WpfFGVweu8Za2ipDJtrR6cVuugQJubCgtUnRnkqmVYXO2jrEYuDJ1SgNNhmNgPFhpPoLr6UaAq7\n",
       "L7CgmCTi7KH7TKses0ijQUl+A2czjDaKu7dfQ/YaoAOib3WNzzhaiKlG0ojj/zjy1PRA8um91zx3\n",
       "imMWKHVlBBNqnr8XTWuKLnjynrCNho1I78qGA74uYaiP9aHbSUGI2VN0fLeaC00cvSBKqTJcFLch\n",
       "MUTopM2luIr2Utml2PXL4wT6RjEJ/TnDxP1pBeG12kHAvWmTZ9LPzz51aCdsz1g24jzGTd3P0Gtt\n",
       "l0IjPq04ovt4cu3i747N8E8QR4QSGikOwpOY3gmc/gPzpwUfxk5IJ4PuVFuWZQuyPmGAKDrNLBCe\n",
       "vv8j8r80toTLBm9NkW09sk5NX6O2onYYP735UUhsevJRyJPf2jO5pKtX9cBJka5F91WFOw9IOwFg\n",
       "0Bo7hglgqkrf8tOLfsXU7JUkx/9aMfyvKxM2EM00ie+yz3MCcuOUNkDWxCxR9f+YpkyHqc0JzUwI\n",
       "YAV5hT0kFlYsNX49tTOl+h4WhgDSvFZcKjPSnCNNOuPa0JchViFmqiMS2aRiJAeBIsZbJA4OYFDe\n",
       "iccEOXBAYCRD3topNSI9n/7SzCv3HfpA7K0DPPHG96zSSHCrcOCC04o/Az2E76Gv5XELkDnTLbPt\n",
       "VFkOnl8g2jJEmHY7hCw13pGKO7N9plmOU9MUqFvvFGO4Y+TllcS7ycsQ7RkWFRZa1AxPDUVPDXaF\n",
       "N0++mHarmIy3YP7kLbfVaqYfOnAk0pyhdiaEq+XHySvKl9X8IYaOsn5a12dVv1Sn7spTiqX2f5Sx\n",
       "iPUcebsG/9nXPOR+NAPZ+8G6FzFb93hw/NfRUPvfgfGNrPOQaKe6utftV013okG1HtXD9b9dpkhg\n",
       "Hsjabnecrf8VuKGsibgyrR83xsvkl9CDniCdhkKjooVK83cxefWp6KovioT86P9uQjyOCdNf/Lbl\n",
       "/oK+yS51UWEAAAGOQZ5CeId/ABXDFOKaUuNGZGl9hvVxVDiVlIP8Vt2wSmZp6mA0ACWkfieyLZqJ\n",
       "ss+OkqDoh0k5ujfvrrU9PurZhwceeprEwsq444crCjJMwzQHULZsc3aZAn32MsiKzJXeLwkwManG\n",
       "ArbHNof0wy3z5JYalcpwTxMCkVma8S/SQZrQ7FkKAjYsCr/4YTx8wBeExnXbKgskmcmg6ZSdrzsy\n",
       "XWO+mElfzN88a5R/Q7VIhAY9F90v0vTSQ8Vle9VrlsYtP74TVaR/POBEE5437/6OXnw+OhmkdcSc\n",
       "JCYVr9TJQ36uy7zHaA+nfj/ZZI4yJ5bi2KIsrWkZ83mugvPxvY4HKdpGf0SBbU4DDNNZD5sb/3Nw\n",
       "SPwGX9v6zw8g8ugoVf5oqlOUts6ojJwH+KpVf2wDzBgUnFc3VpS6bN1Xi7IuQxL6Dp1IAvLveU4Q\n",
       "Kz0YtSFHDlcsfkaMoWZr2mmqrkg1u1ubrw9H33dhdUxdpQ4pdfTcv+hK60MTOXLKlT9vzefm5esr\n",
       "vkAAvAkaxYisTcEAAAD6AZ5hdEN/ABg+7muUvfXISQ99av3cxKvABsl9D8txfhhwTAWG8beY1ME4\n",
       "fMmw1vR9lgfRtLF4JLLCegPlJyLsb3DinC5LmBhIIGI/YYzsMklTFVKI6eWBWwKbx6gJ9/2yv4jt\n",
       "skaIlqy24VHmJ6/BmjJOMoxwUTw84TaSEk089KDBuPWgM1rY4Yb52fe1lwU+0xpwZv9bgCWVCAZS\n",
       "7/vMdgTt0k0qIwlArbnSeQTyX24WrgzXoQu86MVKgoOneSTu//nElPZCMX7STSApLtnUxDHv5D06\n",
       "Wdz3stSFP1EYd8YDoeYdT5uPVYiWG0OcMDO7OGAABfeF6FGkgAAAAKkBnmNqQ38ADzKU05HenBqw\n",
       "Cz5mDpQAH8PrlV1qGSF91FRFBL8/HRcpWQcBSmuOT9t0N2NepUH5cTc2j7+GmMC7hfrNwn63jhl/\n",
       "aWWVLBkThOIZBRZ/Peug6voSwoEb8oP2Mp33ZP2ytCxXuzCcqLJpOCJ48et3ZzNbbZuz+V5dEpJZ\n",
       "Brx6aIrbz/SZ3iYoExCCqBDa/dkOhtjwklK+spLY/x+aSAAR3GO7AAADXEGaaEmoQWiZTAgj//61\n",
       "KoAFcKRyAI+RktofG01CcmHG8TGhUtybbdv9Fn7QJv9NbIj52t3X/4SGe2EwyKHT3xqAp5GTia0S\n",
       "4Iome8YIWnTemF3eer4RJdHiVO6VN2xBckRURN4xeuYE4QINXyutt9hqWRSjqd8A7pbNVVvr7IbE\n",
       "r2VnVtlxVYs470CXRnD94UicU8HBzNLHoF8M4cPF/BCXOM8qq1wZBws1QnTi1yHdYuf4YnQQO5Cl\n",
       "I/K0uzm8IVE275+AsbzAVcRhAfKzrxpN6tpTsStphGry5khOtVCQiREKNWDl1MDHQhNRT0/c6TUX\n",
       "D2KZllu0mq+U/NAOIcf5mAfKwwcIyc0cXYgxaRK5taXTStDHXSr7MyeBnTfCacacdzF6yuZqldva\n",
       "YFV65bNPzZDdd8YgRMpcGLc5dn9hHJfhUGObTXOSJD2D0MpkFD+lwKE7Ep2KdBgbB5euSQbdIfS6\n",
       "2MC0A/1pDN94cJjm5lDWoMxki+Uao4m6EPYPrOqUpZZUHQyc4BUG/oCPX5eqDdziIynChkYd/as6\n",
       "LmR/eejkj5Y63T6/+VCGBDRWhjZQOUo4pADfOkPKCcAsjZRyJ58zMsN4TrCw8fZzzVuboI+nzb8w\n",
       "nA6RtHMJqF7Inoqi4yHk0jXkgC9qBy8G7FpCt4cVAYtu7RWuZw/WjPGoF52JsLTEaqzua3q/JhQo\n",
       "g6SFwqnseC1QxETzTCKpD1lB0m0vzkfL2utOw/x/1CfDrvjc8j1xTGMgwKF3ZtpccBMk7G1pf3vE\n",
       "3KAXhvMWWPZuz9vdHfKliv/ezLlp4UgdsiDTVfVfit3EL4cD75AyQo+wgMjzxqNXaUbY/VVcedLM\n",
       "pMp10vftzppeOnOHDo5czYYJaK51ausT/z9hXXSCgp3c7IF8ASXZCsULkFon+TeiVUMYhojNMucs\n",
       "UlaKcr1P16UMFenN8j7sbOhAcN2YtvWDAkvZbSCPjLXdDRulYCosSKGsro/dSLx682XyCWDzCRMf\n",
       "D9n4RYzPrfBWWbcQ4t6GVU+DPt4RxdTMK1Mg9iDOh/lR6pczTxh2qLofIqM3AUVWLYFFbXz++mRv\n",
       "E52zUntxqolYsRMkx4ETJrMAsDWNo+keBz1kDB8O8EfycSXFh0LSyvo+YjvBFHqBAAAAs0GehkUR\n",
       "LDv/ABVBxgAfyqNglEr8rCrGtZp/jxIlCWuND0DVD34J7AIOXMMg9BiKgm2FLWS25q2u1NhpGKqS\n",
       "zroAM8SvA3oqJ60AuCEHvgZe0n7ljB7sXCIth/JB7CoqI20PwJ92e0n5LrEnAxabke8wi4QJDTqB\n",
       "u2Ne9jwMFIsF3ljMMEqbhhbUvoI36fgUmpLCu7/yY+fJ/cvdv2ZyoWID+Pd779VARw2pTVAAI7eH\n",
       "VklBAAAAdwGepXRDfwAYPu5uvRb/fyeT8RRHU4AQi53u1RUDp6qyqIiWwL239e2zO+cMg4UW44dj\n",
       "/RHXqC76aP7fNSXvA4gKsGJEsmDUSKthK2NZss3LUCGd2wvuO/P7otFc4Ylfos0lAPd0o0zsKurZ\n",
       "8Ac6ECsl24OAAC2hAAAARAGep2pDfwAYPu5upvi0SCV6/spAy4P0vfBzIraAEPB9pj5tScGn28Az\n",
       "CUH/xl2ZKNlD74bAIUxiF3J3c9u4YAAmrXRgAAACF0GarEmoQWyZTAgj//61KoAFcKRyAI+RktXs\n",
       "bv9akIJVqfZJDb3O/F6xnPPVsrF3hFMNp3xaLcFCXnbPqxupBoWEjvqIEBSKjECZ9W3QLC19NYP+\n",
       "E6dILUOV02Cqki9dt3D7w1xiQbHK5ef3Pf9g3Ak2rYhkRLD1TQtjqdE/J9D0ZlqAu1SyzaAvT54S\n",
       "ef239ISpLe2HE9EjMgA4gURdR9YMx0vgxiLBAfiMsWH+qcE01y0pMtQZxw2znA28iXZIJHUilIJb\n",
       "agU8dfqSxKCCR78jxUaTREUnh16EX7P79o3K8SwmI/LlZV11QkQPZHsuTz0UBo0mL/QWcfjza8ye\n",
       "Ie+Kf1tL0pqZyMDHZk2qf0mABtbtic8LHnD1/RkXYeigihmhkLDRjrvcc7BA0kpXIJmO111umHbN\n",
       "Tfb8FBw8a8pZ+ConeSKD8ItFNqpnoqLeuo/2H7I7kEeVCZmpp7MdKztjyL6g45IK7FJNO0HeA8ya\n",
       "QIuVzAn/YbVNkjPNV39Oelj1MNGW0+H3Y6whPRa+hiiXAgnJyxIVm1Hemfg/0Ijiiob58y1BMnrA\n",
       "HGL9YgObERFXLKl2rPXw7CrTJnJ9S4u3Nt4k3nslik0iAsmWoXbxIaaEAkoqQlzJJdR8BMmmOekl\n",
       "VqsEyUVMYnho34n45GKZbLDUh1kmtk8OHlzXljCY2z/eoqZQriI9QGusr1Dfh95VCcgX4+AAAABA\n",
       "QZ7KRRUsO/8AENgAzweGeTPHIBI+oeM9gBITAXDhBuN6EPdlt4cnNKyjezq+eflXzMR9BmMXUyG4\n",
       "6NwAF3OV4QAAADQBnul0Q38AGD7uaMmR65D8tL16wOxFz7vjtyCgBIrRJ4jACFOoYOgaYx6or5Tf\n",
       "MAAGd984AAAAIAGe62pDfwAdruXM6Jl9enVNJM53DJDmiF7Jgg4mAAQcAAABS0Ga8EmoQWyZTAgj\n",
       "//61KoAFcKc7AFh+i58zYvHe0HTGcPLMU+sxgb+O9whH0Y/CPnNs+t0AARck1tgdAWzjo1/fZ8pV\n",
       "9B6dkrFDlyED5tlELcUNBZgBhZgdsRp8FznVJEsRK9DNrZ/OHhJDA0Kq+xS5zOxgI9MOtTYFxWRW\n",
       "5fZa2MC2LKLgxFd2uURRir11D1od9b8OzohVxRKO1V0BAD5WFZJcW1VQPFbFZdC/PwIkd9NTKcbp\n",
       "SVHBnO1Rb39GUJH75YiSehgE6LM82LgyxkJflVLfitS6C8mE+UINRSE5xw5zLuWH5kvqfhsw1JEN\n",
       "qnRvJWPcvhBGTxOfgSQwoAoyjx9YqpHmXgKuxmW0JhNfTldF7aszx8AVXM+CljFICOLkVICJKqGT\n",
       "DDd3Eg17Zu9ZQkhVaIHEBy8nEtzUEojhKtGjXo2tmudoZaEAAAAcQZ8ORRUsO/8AENgAuNSxtr9P\n",
       "OJlzoEDCoAAIGQAAABYBny10Q38AGH6wN4dxVUJ8MYEiABgRAAAAFwGfL2pDfwAYguxf+G1WdjHe\n",
       "pRbgANmAAAAA20GbNEmoQWyZTAgj//61KoACuFDqADmSshe1cZKaEZ5mhOrd3ItdEYmX5FDC0Y0M\n",
       "VdH5U8onxfWiLJuCZU9PzbdotttMDWcaaSB9UjTklU8baljdD1NXvedsligTfZYGpbenx8ztOByj\n",
       "uEJxFqgVJoOM3DP51DfU57zQvBPfycjE4wZBAT2ONaPO88UmyPLjL8YHZCiCEEFca5xWT6F98KLP\n",
       "gVX0NasoMH+dW3m2TwUAXHP1PpTcBIZunokPPLoSOVb1LyrQGI5lb3g4nBa0embAlMfhpz/wrwAI\n",
       "+AAAACNBn1JFFSw7/wARClRrjhssVkg/Qr0HfiUfheMEMncqAABzQQAAABMBn3F0Q38AGH6wM1ld\n",
       "nQOLAAsoAAAAEwGfc2pDfwAYguxdRW7PD2sABKwAAAAfQZt4SahBbJlMCCP//rUqgABKHYxMADJ1\n",
       "7YX7ogABxwAAAB1Bn5ZFFSw7/wARClRMowvU6A4mpn6tTmZEAAAW0AAAABMBn7V0Q38AGH6wM1ld\n",
       "nQOLAAspAAAAEwGft2pDfwAYguxdRW7PD2sABK0AAAAWQZu8SahBbJlMCCP//rUqgAAAAwAChgAA\n",
       "AB1Bn9pFFSw7/wARClRMowvU6A4mpn6tTmZEAAAW0QAAABMBn/l0Q38AGH6wM1ldnQOLAAsoAAAA\n",
       "EwGf+2pDfwAYguxdRW7PD2sABK0AAAAWQZvgSahBbJlMCCH//qpVAAADAAAFDQAAAB1Bnh5FFSw7\n",
       "/wARClRMowvU6A4mpn6tTmZEAAAW0AAAABMBnj10Q38AGH6wM1ldnQOLAAsoAAAAEwGeP2pDfwAY\n",
       "guxdRW7PD2sABK0AAAAWQZokSahBbJlMCH///qmWAAADAAATsAAAAB1BnkJFFSw7/wARClRMowvU\n",
       "6A4mpn6tTmZEAAAW0QAAABMBnmF0Q38AGH6wM1ldnQOLAAsoAAAAEwGeY2pDfwAYguxdRW7PD2sA\n",
       "BK0AAAAWQZpnSahBbJlMCG///qeEAAADAAAm4QAAABpBnoZCG/8AGIU1oUpNTLVyhgTIEmGAAABo\n",
       "wQAAABMBnqVpEN8AGH6wM1ldnQOLAAspAAAFD21vb3YAAABsbXZoZAAAAAAAAAAAAAAAAAAAA+gA\n",
       "AA+gAAEAAAEAAAAAAAAAAAAAAAABAAAAAAAAAAAAAAAAAAAAAQAAAAAAAAAAAAAAAAAAQAAAAAAA\n",
       "AAAAAAAAAAAAAAAAAAAAAAAAAAAAAAAAAAIAAAQ5dHJhawAAAFx0a2hkAAAAAwAAAAAAAAAAAAAA\n",
       "AQAAAAAAAA+gAAAAAAAAAAAAAAAAAAAAAAABAAAAAAAAAAAAAAAAAAAAAQAAAAAAAAAAAAAAAAAA\n",
       "QAAAAAH0AAABkAAAAAAAJGVkdHMAAAAcZWxzdAAAAAAAAAABAAAPoAAACAAAAQAAAAADsW1kaWEA\n",
       "AAAgbWRoZAAAAAAAAAAAAAAAAAAAKAAAAKAAVcQAAAAAAC1oZGxyAAAAAAAAAAB2aWRlAAAAAAAA\n",
       "AAAAAAAAVmlkZW9IYW5kbGVyAAAAA1xtaW5mAAAAFHZtaGQAAAABAAAAAAAAAAAAAAAkZGluZgAA\n",
       "ABxkcmVmAAAAAAAAAAEAAAAMdXJsIAAAAAEAAAMcc3RibAAAALRzdHNkAAAAAAAAAAEAAACkYXZj\n",
       "MQAAAAAAAAABAAAAAAAAAAAAAAAAAAAAAAH0AZAASAAAAEgAAAAAAAAAAQAAAAAAAAAAAAAAAAAA\n",
       "AAAAAAAAAAAAAAAAAAAAAAAAABj//wAAADJhdmNDAWQAFv/hABlnZAAWrNlAgDPn4QAAAwABAAAD\n",
       "ABQPFi2WAQAGaOvjyyLAAAAAHHV1aWRraEDyXyRPxbo5pRvPAyPzAAAAAAAAABhzdHRzAAAAAAAA\n",
       "AAEAAAAoAAAEAAAAABRzdHNzAAAAAAAAAAEAAAABAAABUGN0dHMAAAAAAAAAKAAAAAEAAAgAAAAA\n",
       "AQAAFAAAAAABAAAIAAAAAAEAAAAAAAAAAQAABAAAAAABAAAUAAAAAAEAAAgAAAAAAQAAAAAAAAAB\n",
       "AAAEAAAAAAEAABQAAAAAAQAACAAAAAABAAAAAAAAAAEAAAQAAAAAAQAAFAAAAAABAAAIAAAAAAEA\n",
       "AAAAAAAAAQAABAAAAAABAAAUAAAAAAEAAAgAAAAAAQAAAAAAAAABAAAEAAAAAAEAABQAAAAAAQAA\n",
       "CAAAAAABAAAAAAAAAAEAAAQAAAAAAQAAFAAAAAABAAAIAAAAAAEAAAAAAAAAAQAABAAAAAABAAAU\n",
       "AAAAAAEAAAgAAAAAAQAAAAAAAAABAAAEAAAAAAEAABQAAAAAAQAACAAAAAABAAAAAAAAAAEAAAQA\n",
       "AAAAAQAAEAAAAAABAAAIAAAAAAEAAAAAAAAAHHN0c2MAAAAAAAAAAQAAAAEAAAAoAAAAAQAAALRz\n",
       "dHN6AAAAAAAAAAAAAAAoAAAWpwAABXwAAAGSAAAA/gAAAK0AAANgAAAAtwAAAHsAAABIAAACGwAA\n",
       "AEQAAAA4AAAAJAAAAU8AAAAgAAAAGgAAABsAAADfAAAAJwAAABcAAAAXAAAAIwAAACEAAAAXAAAA\n",
       "FwAAABoAAAAhAAAAFwAAABcAAAAaAAAAIQAAABcAAAAXAAAAGgAAACEAAAAXAAAAFwAAABoAAAAe\n",
       "AAAAFwAAABRzdGNvAAAAAAAAAAEAAAAsAAAAYnVkdGEAAABabWV0YQAAAAAAAAAhaGRscgAAAAAA\n",
       "AAAAbWRpcmFwcGwAAAAAAAAAAAAAAAAtaWxzdAAAACWpdG9vAAAAHWRhdGEAAAABAAAAAExhdmY1\n",
       "Ni40MC4xMDE=\n",
       "\">\n",
       "  Your browser does not support the video tag.\n",
       "</video>"
      ],
      "text/plain": [
       "<matplotlib.animation.FuncAnimation at 0x118719190>"
      ]
     },
     "execution_count": 30,
     "metadata": {},
     "output_type": "execute_result"
    }
   ],
   "source": [
    "fig = plt.figure(dpi=100, figsize=(5, 4))\n",
    "plt.scatter(x,y)\n",
    "line, = plt.plot(x,lin(a_guess,b_guess,x))\n",
    "plt.close()\n",
    "\n",
    "def animate(i):\n",
    "    line.set_ydata(lin(a_guess,b_guess,x))\n",
    "    for i in range(50): upd()\n",
    "    return line,\n",
    "\n",
    "ani = animation.FuncAnimation(fig, animate, np.arange(0, 40), interval=100)\n",
    "ani"
   ]
  },
  {
   "cell_type": "code",
   "execution_count": 31,
   "metadata": {
    "scrolled": false
   },
   "outputs": [
    {
     "data": {
      "text/plain": [
       "3.0000"
      ]
     },
     "execution_count": 31,
     "metadata": {},
     "output_type": "execute_result"
    }
   ],
   "source": [
    "a_guess"
   ]
  },
  {
   "cell_type": "code",
   "execution_count": 32,
   "metadata": {},
   "outputs": [
    {
     "data": {
      "text/plain": [
       "8.0000"
      ]
     },
     "execution_count": 32,
     "metadata": {},
     "output_type": "execute_result"
    }
   ],
   "source": [
    "b_guess"
   ]
  },
  {
   "cell_type": "code",
   "execution_count": null,
   "metadata": {},
   "outputs": [],
   "source": [
    "x"
   ]
  },
  {
   "cell_type": "code",
   "execution_count": null,
   "metadata": {
    "collapsed": true
   },
   "outputs": [],
   "source": []
  }
 ],
 "metadata": {
  "kernelspec": {
   "display_name": "Python 2",
   "language": "python",
   "name": "python2"
  },
  "language_info": {
   "codemirror_mode": {
    "name": "ipython",
    "version": 2
   },
   "file_extension": ".py",
   "mimetype": "text/x-python",
   "name": "python",
   "nbconvert_exporter": "python",
   "pygments_lexer": "ipython2",
   "version": "2.7.14"
  },
  "nav_menu": {},
  "toc": {
   "navigate_menu": true,
   "number_sections": true,
   "sideBar": true,
   "threshold": 6,
   "toc_cell": true,
   "toc_section_display": "block",
   "toc_window_display": false
  },
  "widgets": {
   "state": {},
   "version": "1.1.2"
  }
 },
 "nbformat": 4,
 "nbformat_minor": 1
}
