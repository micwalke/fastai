{
 "cells": [
  {
   "cell_type": "markdown",
   "metadata": {},
   "source": [
    "# Learning Keras\n",
    "### ( Version 1.2.2)"
   ]
  },
  {
   "cell_type": "code",
   "execution_count": 8,
   "metadata": {
    "collapsed": true,
    "scrolled": true
   },
   "outputs": [],
   "source": [
    "from keras.models import Sequential\n",
    "\n",
    "model = Sequential()"
   ]
  },
  {
   "cell_type": "code",
   "execution_count": null,
   "metadata": {
    "collapsed": true
   },
   "outputs": [],
   "source": [
    "t1 = (1,)\n",
    "t1"
   ]
  },
  {
   "cell_type": "code",
   "execution_count": null,
   "metadata": {
    "collapsed": true
   },
   "outputs": [],
   "source": [
    "t2 = (None,2)\n",
    "t2"
   ]
  },
  {
   "cell_type": "markdown",
   "metadata": {},
   "source": [
    "keras.layers.core.Dense(output_dim,\n",
    "                        init='glorot_uniform',\n",
    "                        activation=None,\n",
    "                        weights=None,\n",
    "                        W_regularizer=None,\n",
    "                        b_regularizer=None,\n",
    "                        activity_regularizer=None,\n",
    "                        W_constraint=None,\n",
    "                        b_constraint=None,\n",
    "                        bias=True,\n",
    "                        input_dim=None)\n",
    "                        \n",
    "output_dim is required, and is the shape of one row of outputs\n",
    "\n",
    "input_dim or input_shape is required:\n",
    "    input_dim is used if a sample row is just a row\n",
    "    input_shape is used the a sample is multi-dimensional\n",
    "      i.e. input_shape = (3,224,224) for images in Kaggle cats vs dogs - 3 colours, 224 x 224 pixels"
   ]
  },
  {
   "cell_type": "code",
   "execution_count": 9,
   "metadata": {
    "collapsed": true,
    "scrolled": true
   },
   "outputs": [],
   "source": [
    "from keras.layers import Dense, Activation\n",
    "\n",
    "\n",
    "\n",
    "model.add(Dense(1,input_dim=784, activation='sigmoid'))\n",
    "#model.add(Activation('relu'))\n",
    "#model.add(Dense(10))\n",
    "#model.add(Activation('softmax'))\n",
    "\n",
    "#model.add(Dense(units=64, activation='relu', input_dim=100))\n",
    "#model.add(Dense(units=10, activation='softmax'))"
   ]
  },
  {
   "cell_type": "code",
   "execution_count": 10,
   "metadata": {
    "collapsed": true
   },
   "outputs": [],
   "source": [
    "#model.compile(loss='categorical_crossentropy', optimizer='sgd', metrics=['accuracy'])\n",
    "model.compile(optimizer='rmsprop', loss='binary_crossentropy', metrics=['accuracy'])\n"
   ]
  },
  {
   "cell_type": "code",
   "execution_count": 4,
   "metadata": {
    "collapsed": true
   },
   "outputs": [],
   "source": [
    "from keras.optimizers import SGD\n",
    "model.compile(loss='categorical_crossentropy', optimizer=SGD(lr=0.01, momentum=0.9, nesterov=True))"
   ]
  },
  {
   "cell_type": "code",
   "execution_count": 11,
   "metadata": {
    "collapsed": true
   },
   "outputs": [],
   "source": [
    "import numpy as np\n",
    "data = np.random.random((1000, 784))"
   ]
  },
  {
   "cell_type": "code",
   "execution_count": null,
   "metadata": {
    "collapsed": true
   },
   "outputs": [],
   "source": [
    "data[:1]"
   ]
  },
  {
   "cell_type": "code",
   "execution_count": 12,
   "metadata": {
    "scrolled": false
   },
   "outputs": [
    {
     "data": {
      "text/plain": [
       "array([[1],\n",
       "       [1],\n",
       "       [0],\n",
       "       [0],\n",
       "       [1]])"
      ]
     },
     "execution_count": 12,
     "metadata": {},
     "output_type": "execute_result"
    }
   ],
   "source": [
    "labels = np.random.randint(2, size=(1000,1))\n",
    "labels[:5]"
   ]
  },
  {
   "cell_type": "code",
   "execution_count": null,
   "metadata": {
    "collapsed": true
   },
   "outputs": [],
   "source": []
  },
  {
   "cell_type": "code",
   "execution_count": 28,
   "metadata": {
    "scrolled": false
   },
   "outputs": [
    {
     "name": "stdout",
     "output_type": "stream",
     "text": [
      "Epoch 1/20\n",
      "1000/1000 [==============================] - 0s - loss: 0.4188 - acc: 0.8450     \n",
      "Epoch 2/20\n",
      "1000/1000 [==============================] - 0s - loss: 0.4175 - acc: 0.8470     \n",
      "Epoch 3/20\n",
      "1000/1000 [==============================] - 0s - loss: 0.4120 - acc: 0.8420     \n",
      "Epoch 4/20\n",
      "1000/1000 [==============================] - 0s - loss: 0.4130 - acc: 0.8360     \n",
      "Epoch 5/20\n",
      "1000/1000 [==============================] - 0s - loss: 0.4153 - acc: 0.8510     \n",
      "Epoch 6/20\n",
      "1000/1000 [==============================] - 0s - loss: 0.4118 - acc: 0.8520     \n",
      "Epoch 7/20\n",
      "1000/1000 [==============================] - 0s - loss: 0.4103 - acc: 0.8600     \n",
      "Epoch 8/20\n",
      "1000/1000 [==============================] - 0s - loss: 0.4079 - acc: 0.8380     \n",
      "Epoch 9/20\n",
      "1000/1000 [==============================] - 0s - loss: 0.4074 - acc: 0.8500     \n",
      "Epoch 10/20\n",
      "1000/1000 [==============================] - 0s - loss: 0.4083 - acc: 0.8480     \n",
      "Epoch 11/20\n",
      "1000/1000 [==============================] - 0s - loss: 0.4054 - acc: 0.8450     \n",
      "Epoch 12/20\n",
      "1000/1000 [==============================] - 0s - loss: 0.3976 - acc: 0.8640     \n",
      "Epoch 13/20\n",
      "1000/1000 [==============================] - 0s - loss: 0.4039 - acc: 0.8470     \n",
      "Epoch 14/20\n",
      "1000/1000 [==============================] - 0s - loss: 0.3995 - acc: 0.8610     \n",
      "Epoch 15/20\n",
      "1000/1000 [==============================] - 0s - loss: 0.4006 - acc: 0.8590     \n",
      "Epoch 16/20\n",
      "1000/1000 [==============================] - 0s - loss: 0.3984 - acc: 0.8620     \n",
      "Epoch 17/20\n",
      "1000/1000 [==============================] - 0s - loss: 0.4002 - acc: 0.8540     \n",
      "Epoch 18/20\n",
      "1000/1000 [==============================] - 0s - loss: 0.3974 - acc: 0.8530     \n",
      "Epoch 19/20\n",
      "1000/1000 [==============================] - 0s - loss: 0.3955 - acc: 0.8540     \n",
      "Epoch 20/20\n",
      "1000/1000 [==============================] - 0s - loss: 0.3936 - acc: 0.8500     \n"
     ]
    },
    {
     "data": {
      "text/plain": [
       "<keras.callbacks.History at 0x117245850>"
      ]
     },
     "execution_count": 28,
     "metadata": {},
     "output_type": "execute_result"
    }
   ],
   "source": [
    "model.fit(data, labels, nb_epoch=20, batch_size=32)"
   ]
  },
  {
   "cell_type": "code",
   "execution_count": null,
   "metadata": {
    "collapsed": true
   },
   "outputs": [],
   "source": []
  },
  {
   "cell_type": "code",
   "execution_count": null,
   "metadata": {
    "collapsed": true
   },
   "outputs": [],
   "source": []
  }
 ],
 "metadata": {
  "kernelspec": {
   "display_name": "Python 2",
   "language": "python",
   "name": "python2"
  },
  "language_info": {
   "codemirror_mode": {
    "name": "ipython",
    "version": 2
   },
   "file_extension": ".py",
   "mimetype": "text/x-python",
   "name": "python",
   "nbconvert_exporter": "python",
   "pygments_lexer": "ipython2",
   "version": "2.7.14"
  }
 },
 "nbformat": 4,
 "nbformat_minor": 2
}
